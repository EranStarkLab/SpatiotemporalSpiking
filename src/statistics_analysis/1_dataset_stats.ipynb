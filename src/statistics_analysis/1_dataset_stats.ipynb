{
 "cells": [
  {
   "cell_type": "markdown",
   "metadata": {},
   "source": [
    "# Descriptive statistics for the dataset\n",
    "### The information extracted here is presented in the _Methods and Materials_ chapter, as well as under the first subsection of the _Results_ (_PYR and PV interneurons are tagged in freely-moving mice_) and in _Figure 1_."
   ]
  },
  {
   "cell_type": "code",
   "execution_count": 1,
   "metadata": {},
   "outputs": [],
   "source": [
    "from notebooks_constants import SRC_PATH\n",
    "import sys\n",
    "sys.path.insert(0, SRC_PATH)\n",
    "\n",
    "import numpy as np\n",
    "import os\n",
    "import pandas as pd\n",
    "import scipy.io as io\n",
    "\n",
    "from paths import DATA_MAT_PATH, SAVE_PATH"
   ]
  },
  {
   "cell_type": "code",
   "execution_count": 2,
   "metadata": {},
   "outputs": [],
   "source": [
    "mat = io.loadmat(DATA_MAT_PATH, simplify_cells=True)"
   ]
  },
  {
   "cell_type": "code",
   "execution_count": 3,
   "metadata": {},
   "outputs": [],
   "source": [
    "fn = mat['filename']\n",
    "region = mat['region']\n",
    "shankclu = mat['shankclu']\n",
    "act = mat['act']\n",
    "exc = mat['exc']\n",
    "inh = mat['inh']"
   ]
  },
  {
   "cell_type": "code",
   "execution_count": 4,
   "metadata": {},
   "outputs": [
    {
     "name": "stdout",
     "output_type": "stream",
     "text": [
      "original number of units is 980\n",
      "of them, 781 from CA1 and 199 from the nCX\n",
      "In total 445 were tagged\n",
      "In total 424 were tagged as excitatory\n",
      "In total 21 were tagged as inhibitory\n",
      "In total 98 were tagged as optically activated\n",
      "of the inhibitory units 13 were optically activated\n",
      "of the excitatory units 4 were optically activated\n",
      "of the inhibitory units 13 were optically activated\n",
      "In total 522 were labeled as PYR or PV\n",
      "Total PYR is 420\n",
      "Total PV is 102\n"
     ]
    }
   ],
   "source": [
    "print(f'original number of units is {len(fn)}')\n",
    "print(f'of them, {region.sum()} from CA1 and {(region==0).sum()} from the nCX')\n",
    "\n",
    "print(f'In total {(exc + inh >= 1).sum()} were tagged')\n",
    "print(f'In total {exc.sum()} were tagged as excitatory')\n",
    "print(f'In total {inh.sum()} were tagged as inhibitory')\n",
    "print(f'In total {act.sum()} were tagged as optically activated')\n",
    "\n",
    "inh_inds = [i for i in np.arange(len(inh)) if inh[i]]\n",
    "print(f'of the inhibitory units {act[inh_inds].sum()} were optically activated')\n",
    "\n",
    "opt_inds = [i for i in np.arange(len(act)) if act[i]]\n",
    "print(f'of the excitatory units {exc[opt_inds].sum()} were optically activated')\n",
    "print(f'of the inhibitory units {inh[opt_inds].sum()} were optically activated')\n",
    "\n",
    "inds = [i for i in np.arange(len(fn)) if 0 < act[i] + exc[i] + inh[i]]  # no tagging\n",
    "inds = [i for i in inds if act[i] + exc[i] < 2]  # double tagging\n",
    "inds = [i for i in inds if inh[i] + exc[i] < 2]  # double tagging\n",
    "\n",
    "print(f'In total {len(inds)} were labeled as PYR or PV')\n",
    "print(f'Total PYR is {exc[inds].sum()}')\n",
    "print(f'Total PV is {((inh[inds] + act[inds]) != 0).sum()}')"
   ]
  },
  {
   "cell_type": "code",
   "execution_count": 5,
   "metadata": {},
   "outputs": [
    {
     "name": "stdout",
     "output_type": "stream",
     "text": [
      "10 were recorded using seven instead of eight channels\n",
      "of them, 9 PYR and 1 PV\n"
     ]
    }
   ],
   "source": [
    "inds7 = [i for i in inds if (fn[i] in ['m649r1_16', 'm649r1_17', 'm649r1_19', 'm649r1_21', 'm649r1_22']\n",
    "                                and shankclu[i][0] == 1)]  # not 8 channels\n",
    "print(f'{len(inds7)} were recorded using seven instead of eight channels')\n",
    "print(f'of them, {exc[inds7].sum()} PYR and {((inh[inds7] + act[inds7]) != 0).sum()} PV')"
   ]
  },
  {
   "cell_type": "code",
   "execution_count": 6,
   "metadata": {},
   "outputs": [
    {
     "name": "stdout",
     "output_type": "stream",
     "text": [
      "In total 512 were labeled as PYR or PV\n",
      "Total PYR is 411\n",
      "Total PV is 101\n"
     ]
    }
   ],
   "source": [
    "inds = [i for i in inds if not (fn[i] in ['m649r1_16', 'm649r1_17', 'm649r1_19', 'm649r1_21', 'm649r1_22']\n",
    "                                and shankclu[i][0] == 1)]  # not 8 channel\n",
    "print(f'In total {len(inds)} were labeled as PYR or PV')\n",
    "print(f'Total PYR is {exc[inds].sum()}')\n",
    "print(f'Total PV is {((inh[inds] + act[inds]) != 0).sum()}')"
   ]
  },
  {
   "cell_type": "code",
   "execution_count": 7,
   "metadata": {},
   "outputs": [
    {
     "name": "stdout",
     "output_type": "stream",
     "text": [
      "of the optically activated, 71 from CA1 and 27 from the nCX\n"
     ]
    }
   ],
   "source": [
    "print(f'of the optically activated, {region[opt_inds].sum()} from CA1 and {(region[opt_inds]==0).sum()} from the nCX')"
   ]
  },
  {
   "cell_type": "code",
   "execution_count": 8,
   "metadata": {},
   "outputs": [
    {
     "name": "stdout",
     "output_type": "stream",
     "text": [
      "of the pyramidal cells, 377 from CA1 and 34 from the nCX\n"
     ]
    }
   ],
   "source": [
    "pyr_inds = [i for i in inds if exc[i]]\n",
    "print(f'of the pyramidal cells, {region[pyr_inds].sum()} from CA1 and {(region[pyr_inds]==0).sum()} from the nCX')"
   ]
  },
  {
   "cell_type": "code",
   "execution_count": 9,
   "metadata": {},
   "outputs": [
    {
     "name": "stdout",
     "output_type": "stream",
     "text": [
      "Number of cells from nCX in final dataset is 63\n"
     ]
    }
   ],
   "source": [
    "print(f'Number of cells from nCX in final dataset is {(region[inds] == 0).sum()}')"
   ]
  },
  {
   "cell_type": "code",
   "execution_count": 10,
   "metadata": {},
   "outputs": [
    {
     "name": "stdout",
     "output_type": "stream",
     "text": [
      "Number of activated cells in PV group is 93\n",
      "Number of inhibitory cells in PV group is 21\n",
      "Number of cross cells in PV group is 13\n"
     ]
    }
   ],
   "source": [
    "pv_inds = [i for i in inds if inh[i] + act[i] > 0]\n",
    "print(f'Number of activated cells in PV group is {act[pv_inds].sum()}')\n",
    "print(f'Number of inhibitory cells in PV group is {inh[pv_inds].sum()}')\n",
    "print(f'Number of cross cells in PV group is {(inh * act)[pv_inds].sum()}')"
   ]
  },
  {
   "cell_type": "markdown",
   "metadata": {},
   "source": [
    "### The following extracts the number of spikes for each cell type and the number of samples in the dataset based on a chunk size of 25, as described in the _Chunking method_ subsection of the _Methods and Materials_"
   ]
  },
  {
   "cell_type": "code",
   "execution_count": 11,
   "metadata": {},
   "outputs": [],
   "source": [
    "df = None\n",
    "files = os.listdir(SAVE_PATH + '0/')\n",
    "for file in sorted(files):\n",
    "    if df is None:\n",
    "        df = pd.read_csv(SAVE_PATH + '0/' + '/' + file)\n",
    "    else:\n",
    "        temp = pd.read_csv(SAVE_PATH + '0/' + '/' + file)\n",
    "        df = df.append(temp)"
   ]
  },
  {
   "cell_type": "code",
   "execution_count": 12,
   "metadata": {},
   "outputs": [
    {
     "name": "stdout",
     "output_type": "stream",
     "text": [
      "Number of PYR spikes is 5651196 (411 units)\n",
      "Number of PV spikes is 11612978 (101 units)\n"
     ]
    }
   ],
   "source": [
    "labels = df.label.to_numpy()\n",
    "num_spikes = df.num_spikes.to_numpy()\n",
    "print(f\"Number of PYR spikes is {int(np.sum(num_spikes[labels == 1]))} ({np.sum(labels == 1)} units)\")\n",
    "print(f\"Number of PV spikes is {int(np.sum(num_spikes[labels == 0]))} ({np.sum(labels == 0)} units)\")"
   ]
  },
  {
   "cell_type": "code",
   "execution_count": 13,
   "metadata": {},
   "outputs": [],
   "source": [
    "df = None\n",
    "files = os.listdir(SAVE_PATH + '25/')\n",
    "for file in sorted(files):\n",
    "    if df is None:\n",
    "        df = pd.read_csv(SAVE_PATH + '25/' + '/' + file)\n",
    "    else:\n",
    "        temp = pd.read_csv(SAVE_PATH + '25/' + '/' + file)\n",
    "        df = df.append(temp)"
   ]
  },
  {
   "cell_type": "code",
   "execution_count": 14,
   "metadata": {},
   "outputs": [
    {
     "name": "stdout",
     "output_type": "stream",
     "text": [
      "Number of PYR samples is 225850\n",
      "Number of PV samples is 464473\n"
     ]
    }
   ],
   "source": [
    "labels = df.label.to_numpy()\n",
    "print(f\"Number of PYR samples is {np.sum(labels == 1)}\")\n",
    "print(f\"Number of PV samples is {np.sum(labels == 0)}\")"
   ]
  }
 ],
 "metadata": {
  "kernelspec": {
   "display_name": "Python 3",
   "language": "python",
   "name": "python3"
  },
  "language_info": {
   "codemirror_mode": {
    "name": "ipython",
    "version": 3
   },
   "file_extension": ".py",
   "mimetype": "text/x-python",
   "name": "python",
   "nbconvert_exporter": "python",
   "pygments_lexer": "ipython3",
   "version": "3.9.1"
  }
 },
 "nbformat": 4,
 "nbformat_minor": 4
}
