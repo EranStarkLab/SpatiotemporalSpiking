{
 "cells": [
  {
   "cell_type": "markdown",
   "metadata": {},
   "source": [
    "# Region analysis\n",
    "### The notebook compares the performance of models trained on a single region when tested on the training region and on the non-trained-upon region. The information extracted here is presented in the _Results_ chapter (_Spatial models generalize poorer than waveform models but better than spike-timing models_) and in _Figure 6_.\n",
    "#### Make sure that the following three parameters of constants.py are updated based on the chunking_results notebook outputs: BEST_WF_CHUNK , BEST_ST_CHUNK, and BEST_SPATIAL_CHUNK."
   ]
  },
  {
   "cell_type": "code",
   "execution_count": 1,
   "metadata": {},
   "outputs": [],
   "source": [
    "from notebooks_constants import SRC_PATH\n",
    "import sys\n",
    "sys.path.insert(0, SRC_PATH)\n",
    "\n",
    "import pandas as pd\n",
    "import numpy as np\n",
    "import scipy.stats as stats\n",
    "import scipy.io as io\n",
    "\n",
    "pd.options.display.max_rows = 500\n",
    "pd.options.display.max_columns = 500\n",
    "\n",
    "from constants import BEST_WF_CHUNK, BEST_ST_CHUNK, BEST_SPATIAL_CHUNK\n",
    "from paths import REGION_CA1_RES, REGION_NCX_RES"
   ]
  },
  {
   "cell_type": "code",
   "execution_count": 2,
   "metadata": {},
   "outputs": [],
   "source": [
    "# change to path of interest\n",
    "PATH = REGION_CA1_RES\n",
    "#PATH = REGION_NCX_RES"
   ]
  },
  {
   "cell_type": "code",
   "execution_count": 3,
   "metadata": {},
   "outputs": [
    {
     "data": {
      "text/html": [
       "<div>\n",
       "<style scoped>\n",
       "    .dataframe tbody tr th:only-of-type {\n",
       "        vertical-align: middle;\n",
       "    }\n",
       "\n",
       "    .dataframe tbody tr th {\n",
       "        vertical-align: top;\n",
       "    }\n",
       "\n",
       "    .dataframe thead th {\n",
       "        text-align: right;\n",
       "    }\n",
       "</style>\n",
       "<table border=\"1\" class=\"dataframe\">\n",
       "  <thead>\n",
       "    <tr style=\"text-align: right;\">\n",
       "      <th></th>\n",
       "      <th></th>\n",
       "      <th></th>\n",
       "      <th>auc</th>\n",
       "      <th>auc2</th>\n",
       "    </tr>\n",
       "    <tr>\n",
       "      <th>modality</th>\n",
       "      <th>chunk_size</th>\n",
       "      <th></th>\n",
       "      <th></th>\n",
       "      <th></th>\n",
       "    </tr>\n",
       "  </thead>\n",
       "  <tbody>\n",
       "    <tr>\n",
       "      <th rowspan=\"3\" valign=\"top\">spatial</th>\n",
       "      <th rowspan=\"3\" valign=\"top\">25</th>\n",
       "      <th>0.25</th>\n",
       "      <td>0.805020</td>\n",
       "      <td>0.934211</td>\n",
       "    </tr>\n",
       "    <tr>\n",
       "      <th>0.50</th>\n",
       "      <td>0.829615</td>\n",
       "      <td>0.966165</td>\n",
       "    </tr>\n",
       "    <tr>\n",
       "      <th>0.75</th>\n",
       "      <td>0.858012</td>\n",
       "      <td>0.979323</td>\n",
       "    </tr>\n",
       "    <tr>\n",
       "      <th rowspan=\"3\" valign=\"top\">spike-timing</th>\n",
       "      <th rowspan=\"3\" valign=\"top\">1600</th>\n",
       "      <th>0.25</th>\n",
       "      <td>0.765340</td>\n",
       "      <td>0.981673</td>\n",
       "    </tr>\n",
       "    <tr>\n",
       "      <th>0.50</th>\n",
       "      <td>0.784229</td>\n",
       "      <td>0.991541</td>\n",
       "    </tr>\n",
       "    <tr>\n",
       "      <th>0.75</th>\n",
       "      <td>0.807683</td>\n",
       "      <td>0.994361</td>\n",
       "    </tr>\n",
       "    <tr>\n",
       "      <th rowspan=\"3\" valign=\"top\">waveform</th>\n",
       "      <th rowspan=\"3\" valign=\"top\">50</th>\n",
       "      <th>0.25</th>\n",
       "      <td>0.981237</td>\n",
       "      <td>0.961466</td>\n",
       "    </tr>\n",
       "    <tr>\n",
       "      <th>0.50</th>\n",
       "      <td>0.981998</td>\n",
       "      <td>0.997180</td>\n",
       "    </tr>\n",
       "    <tr>\n",
       "      <th>0.75</th>\n",
       "      <td>0.986815</td>\n",
       "      <td>1.000000</td>\n",
       "    </tr>\n",
       "  </tbody>\n",
       "</table>\n",
       "</div>"
      ],
      "text/plain": [
       "                                   auc      auc2\n",
       "modality     chunk_size                         \n",
       "spatial      25         0.25  0.805020  0.934211\n",
       "                        0.50  0.829615  0.966165\n",
       "                        0.75  0.858012  0.979323\n",
       "spike-timing 1600       0.25  0.765340  0.981673\n",
       "                        0.50  0.784229  0.991541\n",
       "                        0.75  0.807683  0.994361\n",
       "waveform     50         0.25  0.981237  0.961466\n",
       "                        0.50  0.981998  0.997180\n",
       "                        0.75  0.986815  1.000000"
      ]
     },
     "execution_count": 3,
     "metadata": {},
     "output_type": "execute_result"
    }
   ],
   "source": [
    "results = pd.read_csv(PATH, index_col=0)\n",
    "results.chunk_size = pd.to_numeric(results.chunk_size, downcast='integer')\n",
    "complete = results.dropna(how='all', axis=1)\n",
    "grouped_complete = complete.groupby(by=['modality', 'chunk_size'])\n",
    "grouped_complete[['auc', 'auc2']].quantile(q=[0.25, 0.5, 0.75])"
   ]
  },
  {
   "cell_type": "code",
   "execution_count": 4,
   "metadata": {},
   "outputs": [
    {
     "name": "stdout",
     "output_type": "stream",
     "text": [
      "Mann-Whitney statistical test results for waveform are p-value= 0.00314\n",
      "\n",
      "Mann-Whitney statistical test results for spike-timing are p-value= 3.47e-18\n",
      "\n",
      "Mann-Whitney statistical test results for spatial are p-value= 4.21e-18\n",
      "\n"
     ]
    }
   ],
   "source": [
    "wf_same = complete[complete.modality == 'waveform'].auc2.to_numpy()\n",
    "wf_other = complete[complete.modality == 'waveform'].auc.to_numpy()\n",
    "\n",
    "st_same = complete[complete.modality == 'spike-timing'].auc2.to_numpy()\n",
    "st_other = complete[complete.modality == 'spike-timing'].auc.to_numpy()\n",
    "\n",
    "spat_same = complete[complete.modality == 'spatial'].auc2.to_numpy()\n",
    "spat_other = complete[complete.modality == 'spatial'].auc.to_numpy()\n",
    "\n",
    "statistic, p_val = stats.mannwhitneyu(wf_same, wf_other)\n",
    "print(f\"Mann-Whitney statistical test results for waveform are p-value={p_val: .3g}\")\n",
    "print()\n",
    "\n",
    "statistic, p_val = stats.mannwhitneyu(st_same, st_other)\n",
    "print(f\"Mann-Whitney statistical test results for spike-timing are p-value={p_val: .3g}\")\n",
    "print()\n",
    "\n",
    "statistic, p_val = stats.mannwhitneyu(spat_same, spat_other)\n",
    "print(f\"Mann-Whitney statistical test results for spatial are p-value={p_val: .3g}\")\n",
    "print()"
   ]
  },
  {
   "cell_type": "code",
   "execution_count": 5,
   "metadata": {},
   "outputs": [],
   "source": [
    "cs_wf = complete[complete.chunk_size == BEST_WF_CHUNK]\n",
    "cs_wf = cs_wf[cs_wf.modality == 'waveform']\n",
    "wf_aucs_other = cs_wf.auc.to_numpy()\n",
    "wf_aucs_same = cs_wf.auc2.to_numpy()\n",
    "\n",
    "cs_st = complete[complete.chunk_size == BEST_ST_CHUNK]\n",
    "cs_st = cs_st[cs_st.modality == 'spike-timing']\n",
    "st_aucs_other= cs_st.auc.to_numpy()\n",
    "st_aucs_same = cs_st.auc2.to_numpy()\n",
    "\n",
    "cs_spat = complete[complete.chunk_size == BEST_SPATIAL_CHUNK]\n",
    "cs_spat = cs_spat[cs_spat.modality == 'spatial']\n",
    "spat_aucs_other = cs_spat.auc.to_numpy()\n",
    "spat_aucs_same = cs_spat.auc2.to_numpy()"
   ]
  },
  {
   "cell_type": "code",
   "execution_count": 6,
   "metadata": {},
   "outputs": [
    {
     "name": "stdout",
     "output_type": "stream",
     "text": [
      "Median of waveform column is  0.811 [-1.992,  1.741]%\n",
      "Median of spike-timing column is  19.386 [ 18.027,  22.318]%\n",
      "Median of spatial column is  13.068 [ 9.420,  16.515]%\n",
      "\n",
      "Wilcoxon statistical test results for wf are p-value= 0.506\n",
      "Wilcoxon statistical test results for temporal are p-value= 3.78e-10\n",
      "Wilcoxon statistical test results for spatial p-value= 3.78e-10\n"
     ]
    }
   ],
   "source": [
    "wf_diff = 100 * (wf_aucs_same - wf_aucs_other) / wf_aucs_same\n",
    "st_diff = 100 * (st_aucs_same - st_aucs_other) / st_aucs_same\n",
    "spat_diff = 100 * (spat_aucs_same - spat_aucs_other) / spat_aucs_same\n",
    "\n",
    "wf_median, wf_prec25, wf_prec75 = np.percentile(wf_diff, [50, 25, 75])\n",
    "print(f\"Median of waveform column is {wf_median: .3f} [{wf_prec25: .3f}, {wf_prec75: .3f}]%\")\n",
    "temp_median, temp_prec25, temp_prec75 = np.percentile(st_diff, [50, 25, 75])\n",
    "print(f\"Median of spike-timing column is {temp_median: .3f} [{temp_prec25: .3f}, {temp_prec75: .3f}]%\")\n",
    "spat_median, spat_prec25, spat_prec75 = np.percentile(spat_diff, [50, 25, 75])\n",
    "print(f\"Median of spatial column is {spat_median: .3f} [{spat_prec25: .3f}, {spat_prec75: .3f}]%\\n\")\n",
    "\n",
    "statistic, p_val = stats.wilcoxon(wf_diff, alternative='greater')\n",
    "print(f\"Wilcoxon statistical test results for wf are p-value={p_val: .3g}\")\n",
    "statistic, p_val = stats.wilcoxon(st_diff, alternative='greater')\n",
    "print(f\"Wilcoxon statistical test results for temporal are p-value={p_val: .3g}\")\n",
    "statistic, p_val = stats.wilcoxon(spat_diff, alternative='greater')\n",
    "print(f\"Wilcoxon statistical test results for spatial p-value={p_val: .3g}\")"
   ]
  },
  {
   "cell_type": "code",
   "execution_count": 7,
   "metadata": {},
   "outputs": [
    {
     "name": "stdout",
     "output_type": "stream",
     "text": [
      "Wilcoxon statistical test results for waveform inter-region auc are p-value= 7.43e-10\n",
      "Wilcoxon statistical test results for spike-timing inter-region auc are p-value= 7.56e-10\n",
      "Wilcoxon statistical test results for spatial inter-region auc are p-value= 7.54e-10\n",
      "\n",
      "Wilcoxon statistical test results for waveform intra-region auc are p-value= 5.26e-10\n",
      "Wilcoxon statistical test results for spike-timing intra-region auc are p-value= 7.42e-10\n",
      "Wilcoxon statistical test results for spatial intra-region auc are p-value= 7.54e-10\n",
      "\n"
     ]
    }
   ],
   "source": [
    "statistic, p_val = stats.wilcoxon(wf_aucs_other - 0.5)\n",
    "print(f\"Wilcoxon statistical test results for waveform inter-region auc are p-value={p_val: .3g}\")\n",
    "statistic, p_val = stats.wilcoxon(st_aucs_other - 0.5)\n",
    "print(f\"Wilcoxon statistical test results for spike-timing inter-region auc are p-value={p_val: .3g}\")\n",
    "statistic, p_val = stats.wilcoxon(spat_aucs_other - 0.5)\n",
    "print(f\"Wilcoxon statistical test results for spatial inter-region auc are p-value={p_val: .3g}\\n\")\n",
    "\n",
    "statistic, p_val = stats.wilcoxon(wf_aucs_same - 0.5)\n",
    "print(f\"Wilcoxon statistical test results for waveform intra-region auc are p-value={p_val: .3g}\")\n",
    "statistic, p_val = stats.wilcoxon(st_aucs_same - 0.5)\n",
    "print(f\"Wilcoxon statistical test results for spike-timing intra-region auc are p-value={p_val: .3g}\")\n",
    "statistic, p_val = stats.wilcoxon(spat_aucs_same - 0.5)\n",
    "print(f\"Wilcoxon statistical test results for spatial intra-region auc are p-value={p_val: .3g}\\n\")"
   ]
  },
  {
   "cell_type": "markdown",
   "metadata": {},
   "source": [
    "## Compare generalizability"
   ]
  },
  {
   "cell_type": "code",
   "execution_count": 8,
   "metadata": {},
   "outputs": [],
   "source": [
    "PATH_CA1 = REGION_CA1_RES\n",
    "PATH_NCX = REGION_NCX_RES"
   ]
  },
  {
   "cell_type": "code",
   "execution_count": 9,
   "metadata": {},
   "outputs": [],
   "source": [
    "results_ncx = pd.read_csv(PATH_NCX, index_col=0).dropna(how='all', axis=1)\n",
    "results_ca1 = pd.read_csv(PATH_CA1, index_col=0).dropna(how='all', axis=1)"
   ]
  },
  {
   "cell_type": "code",
   "execution_count": 10,
   "metadata": {},
   "outputs": [],
   "source": [
    "cs_wf = results_ncx[results_ncx.chunk_size == BEST_WF_CHUNK]\n",
    "cs_wf = cs_wf[cs_wf.modality == 'waveform']\n",
    "wf_aucs_other = cs_wf.auc.to_numpy()\n",
    "wf_aucs_same = cs_wf.auc2.to_numpy()\n",
    "\n",
    "cs_st = results_ncx[results_ncx.chunk_size == BEST_ST_CHUNK]\n",
    "cs_st = cs_st[cs_st.modality == 'spike-timing']\n",
    "st_aucs_other = cs_st.auc.to_numpy()\n",
    "st_aucs_same = cs_st.auc2.to_numpy()\n",
    "\n",
    "cs_spat = results_ncx[results_ncx.chunk_size == BEST_SPATIAL_CHUNK]\n",
    "cs_spat = cs_spat[cs_spat.modality == 'spatial']\n",
    "spat_aucs_other = cs_spat.auc.to_numpy()\n",
    "spat_aucs_same = cs_spat.auc2.to_numpy()\n",
    "\n",
    "wf_diff_ncx = 100 * (wf_aucs_same - wf_aucs_other) / wf_aucs_same\n",
    "st_diff_ncx = 100 * (st_aucs_same - st_aucs_other) / st_aucs_same\n",
    "spat_diff_ncx = 100 * (spat_aucs_same - spat_aucs_other) / spat_aucs_same"
   ]
  },
  {
   "cell_type": "code",
   "execution_count": 11,
   "metadata": {},
   "outputs": [],
   "source": [
    "cs_wf = results_ca1[results_ca1.chunk_size == BEST_WF_CHUNK]\n",
    "cs_wf = cs_wf[cs_wf.modality == 'waveform']\n",
    "wf_aucs_other = cs_wf.auc.to_numpy()\n",
    "wf_aucs_same = cs_wf.auc2.to_numpy()\n",
    "\n",
    "cs_st = results_ca1[results_ca1.chunk_size == BEST_ST_CHUNK]\n",
    "cs_st = cs_st[cs_st.modality == 'spike-timing']\n",
    "st_aucs_other = cs_st.auc.to_numpy()\n",
    "st_aucs_same = cs_st.auc2.to_numpy()\n",
    "\n",
    "cs_spat = results_ca1[results_ca1.chunk_size == BEST_SPATIAL_CHUNK]\n",
    "cs_spat = cs_spat[cs_spat.modality == 'spatial']\n",
    "spat_aucs_other = cs_spat.auc.to_numpy()\n",
    "spat_aucs_same = cs_spat.auc2.to_numpy()\n",
    "\n",
    "wf_diff_ca1 = 100 * (wf_aucs_same - wf_aucs_other) / wf_aucs_same\n",
    "st_diff_ca1 = 100 * (st_aucs_same - st_aucs_other) / st_aucs_same\n",
    "spat_diff_ca1 = 100 * (spat_aucs_same - spat_aucs_other) / spat_aucs_same"
   ]
  },
  {
   "cell_type": "code",
   "execution_count": 12,
   "metadata": {},
   "outputs": [
    {
     "name": "stdout",
     "output_type": "stream",
     "text": [
      "Mann-Whitney statistical test results for waveform are p-value= 0.066\n",
      "Mann-Whitney statistical test results for spike-timing are p-value= 2.23e-17\n",
      "Mann-Whitney statistical test results for spatial are p-value= 2.53e-12\n"
     ]
    }
   ],
   "source": [
    "statistic, p_val = stats.mannwhitneyu(wf_diff_ca1, wf_diff_ncx)\n",
    "print(f\"Mann-Whitney statistical test results for waveform are p-value={p_val: .3g}\")\n",
    "\n",
    "statistic, p_val = stats.mannwhitneyu(st_diff_ca1, st_diff_ncx)\n",
    "print(f\"Mann-Whitney statistical test results for spike-timing are p-value={p_val: .3g}\")\n",
    "\n",
    "statistic, p_val = stats.mannwhitneyu(spat_diff_ca1, spat_diff_ncx)\n",
    "print(f\"Mann-Whitney statistical test results for spatial are p-value={p_val: .3g}\")"
   ]
  },
  {
   "cell_type": "markdown",
   "metadata": {},
   "source": [
    "#### Additional statistical comparisons applying the Kruskal-Wallis test were conducted in Matlab. Those were simply executed for each training region based on the performance on the non-trained-upon-region test set for all modalities and based on the diff values for all modalities. To perform the comparisons in Matlab use:\n",
    "[p, tbl, stats] = kruskalwallis(mat)\n",
    "\n",
    "c = multcompare(stats)"
   ]
  }
 ],
 "metadata": {
  "kernelspec": {
   "display_name": "Python 3",
   "language": "python",
   "name": "python3"
  },
  "language_info": {
   "codemirror_mode": {
    "name": "ipython",
    "version": 3
   },
   "file_extension": ".py",
   "mimetype": "text/x-python",
   "name": "python",
   "nbconvert_exporter": "python",
   "pygments_lexer": "ipython3",
   "version": "3.9.1"
  }
 },
 "nbformat": 4,
 "nbformat_minor": 4
}
